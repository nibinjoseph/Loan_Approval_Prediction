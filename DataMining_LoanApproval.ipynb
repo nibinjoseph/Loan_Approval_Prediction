{
 "cells": [
  {
   "cell_type": "markdown",
   "id": "f0db4410-3ad5-44f0-912e-be85cd08a6d2",
   "metadata": {},
   "source": [
    "Loan Approval Prediction using Machine Learning"
   ]
  },
  {
   "cell_type": "code",
   "execution_count": 1,
   "id": "cc87d64c-26c8-40d3-83c1-f2c687f4ca97",
   "metadata": {},
   "outputs": [],
   "source": [
    "#importing relevant packages\n",
    "\n",
    "import numpy as np\n",
    "import pandas as pd\n",
    "\n",
    "#import packages for data visualization\n",
    "\n",
    "import matplotlib.pyplot as plt\n",
    "import seaborn as sns\n",
    "\n",
    "from sklearn.model_selection import train_test_split, GridSearchCV\n",
    "\n",
    "from sklearn.metrics import classification_report, confusion_matrix, ConfusionMatrixDisplay\n",
    "import sklearn.metrics as metrics\n",
    "\n",
    "from sklearn.pipeline import Pipeline\n",
    "from sklearn.preprocessing import StandardScaler\n",
    "\n",
    "from sklearn.linear_model import LogisticRegression\n",
    "from sklearn.ensemble import RandomForestClassifier\n",
    "from xgboost import XGBClassifier, plot_importance\n",
    "\n",
    "import pickle"
   ]
  },
  {
   "cell_type": "code",
   "execution_count": 2,
   "id": "520df687-18e4-4452-bbb9-800fb56b01d1",
   "metadata": {},
   "outputs": [],
   "source": [
    "#loading the dataset into a dataframe\n",
    "data = pd.read_csv(\"Loan_approval.csv\")"
   ]
  },
  {
   "cell_type": "code",
   "execution_count": 3,
   "id": "e7847a63-3256-4cdf-925b-879047a2fe2e",
   "metadata": {},
   "outputs": [
    {
     "data": {
      "text/html": [
       "<div>\n",
       "<style scoped>\n",
       "    .dataframe tbody tr th:only-of-type {\n",
       "        vertical-align: middle;\n",
       "    }\n",
       "\n",
       "    .dataframe tbody tr th {\n",
       "        vertical-align: top;\n",
       "    }\n",
       "\n",
       "    .dataframe thead th {\n",
       "        text-align: right;\n",
       "    }\n",
       "</style>\n",
       "<table border=\"1\" class=\"dataframe\">\n",
       "  <thead>\n",
       "    <tr style=\"text-align: right;\">\n",
       "      <th></th>\n",
       "      <th>id</th>\n",
       "      <th>person_age</th>\n",
       "      <th>person_income</th>\n",
       "      <th>person_home_ownership</th>\n",
       "      <th>person_emp_length</th>\n",
       "      <th>loan_intent</th>\n",
       "      <th>loan_grade</th>\n",
       "      <th>loan_amnt</th>\n",
       "      <th>loan_int_rate</th>\n",
       "      <th>loan_percent_income</th>\n",
       "      <th>cb_person_default_on_file</th>\n",
       "      <th>cb_person_cred_hist_length</th>\n",
       "      <th>loan_status</th>\n",
       "    </tr>\n",
       "  </thead>\n",
       "  <tbody>\n",
       "    <tr>\n",
       "      <th>0</th>\n",
       "      <td>0</td>\n",
       "      <td>37</td>\n",
       "      <td>35000</td>\n",
       "      <td>RENT</td>\n",
       "      <td>0.0</td>\n",
       "      <td>EDUCATION</td>\n",
       "      <td>B</td>\n",
       "      <td>6000</td>\n",
       "      <td>11.49</td>\n",
       "      <td>0.17</td>\n",
       "      <td>N</td>\n",
       "      <td>14</td>\n",
       "      <td>0</td>\n",
       "    </tr>\n",
       "    <tr>\n",
       "      <th>1</th>\n",
       "      <td>1</td>\n",
       "      <td>22</td>\n",
       "      <td>56000</td>\n",
       "      <td>OWN</td>\n",
       "      <td>6.0</td>\n",
       "      <td>MEDICAL</td>\n",
       "      <td>C</td>\n",
       "      <td>4000</td>\n",
       "      <td>13.35</td>\n",
       "      <td>0.07</td>\n",
       "      <td>N</td>\n",
       "      <td>2</td>\n",
       "      <td>0</td>\n",
       "    </tr>\n",
       "    <tr>\n",
       "      <th>2</th>\n",
       "      <td>2</td>\n",
       "      <td>29</td>\n",
       "      <td>28800</td>\n",
       "      <td>OWN</td>\n",
       "      <td>8.0</td>\n",
       "      <td>PERSONAL</td>\n",
       "      <td>A</td>\n",
       "      <td>6000</td>\n",
       "      <td>8.90</td>\n",
       "      <td>0.21</td>\n",
       "      <td>N</td>\n",
       "      <td>10</td>\n",
       "      <td>0</td>\n",
       "    </tr>\n",
       "    <tr>\n",
       "      <th>3</th>\n",
       "      <td>3</td>\n",
       "      <td>30</td>\n",
       "      <td>70000</td>\n",
       "      <td>RENT</td>\n",
       "      <td>14.0</td>\n",
       "      <td>VENTURE</td>\n",
       "      <td>B</td>\n",
       "      <td>12000</td>\n",
       "      <td>11.11</td>\n",
       "      <td>0.17</td>\n",
       "      <td>N</td>\n",
       "      <td>5</td>\n",
       "      <td>0</td>\n",
       "    </tr>\n",
       "    <tr>\n",
       "      <th>4</th>\n",
       "      <td>4</td>\n",
       "      <td>22</td>\n",
       "      <td>60000</td>\n",
       "      <td>RENT</td>\n",
       "      <td>2.0</td>\n",
       "      <td>MEDICAL</td>\n",
       "      <td>A</td>\n",
       "      <td>6000</td>\n",
       "      <td>6.92</td>\n",
       "      <td>0.10</td>\n",
       "      <td>N</td>\n",
       "      <td>3</td>\n",
       "      <td>0</td>\n",
       "    </tr>\n",
       "  </tbody>\n",
       "</table>\n",
       "</div>"
      ],
      "text/plain": [
       "   id  person_age  person_income person_home_ownership  person_emp_length  \\\n",
       "0   0          37          35000                  RENT                0.0   \n",
       "1   1          22          56000                   OWN                6.0   \n",
       "2   2          29          28800                   OWN                8.0   \n",
       "3   3          30          70000                  RENT               14.0   \n",
       "4   4          22          60000                  RENT                2.0   \n",
       "\n",
       "  loan_intent loan_grade  loan_amnt  loan_int_rate  loan_percent_income  \\\n",
       "0   EDUCATION          B       6000          11.49                 0.17   \n",
       "1     MEDICAL          C       4000          13.35                 0.07   \n",
       "2    PERSONAL          A       6000           8.90                 0.21   \n",
       "3     VENTURE          B      12000          11.11                 0.17   \n",
       "4     MEDICAL          A       6000           6.92                 0.10   \n",
       "\n",
       "  cb_person_default_on_file  cb_person_cred_hist_length  loan_status  \n",
       "0                         N                          14            0  \n",
       "1                         N                           2            0  \n",
       "2                         N                          10            0  \n",
       "3                         N                           5            0  \n",
       "4                         N                           3            0  "
      ]
     },
     "execution_count": 3,
     "metadata": {},
     "output_type": "execute_result"
    }
   ],
   "source": [
    "#display first few rows of the dataframe\n",
    "data.head()"
   ]
  },
  {
   "cell_type": "code",
   "execution_count": 4,
   "id": "40da1e28-e851-45e6-ad26-70d7772f48ac",
   "metadata": {},
   "outputs": [
    {
     "data": {
      "text/plain": [
       "(58645, 13)"
      ]
     },
     "execution_count": 4,
     "metadata": {},
     "output_type": "execute_result"
    }
   ],
   "source": [
    "#display the number of rows and columns\n",
    "\n",
    "data.shape"
   ]
  },
  {
   "cell_type": "code",
   "execution_count": 5,
   "id": "296b9786-6bc0-4804-affa-85ffe63dfd06",
   "metadata": {},
   "outputs": [
    {
     "name": "stdout",
     "output_type": "stream",
     "text": [
      "<class 'pandas.core.frame.DataFrame'>\n",
      "RangeIndex: 58645 entries, 0 to 58644\n",
      "Data columns (total 13 columns):\n",
      " #   Column                      Non-Null Count  Dtype  \n",
      "---  ------                      --------------  -----  \n",
      " 0   id                          58645 non-null  int64  \n",
      " 1   person_age                  58645 non-null  int64  \n",
      " 2   person_income               58645 non-null  int64  \n",
      " 3   person_home_ownership       58645 non-null  object \n",
      " 4   person_emp_length           58645 non-null  float64\n",
      " 5   loan_intent                 58645 non-null  object \n",
      " 6   loan_grade                  58645 non-null  object \n",
      " 7   loan_amnt                   58645 non-null  int64  \n",
      " 8   loan_int_rate               58645 non-null  float64\n",
      " 9   loan_percent_income         58645 non-null  float64\n",
      " 10  cb_person_default_on_file   58645 non-null  object \n",
      " 11  cb_person_cred_hist_length  58645 non-null  int64  \n",
      " 12  loan_status                 58645 non-null  int64  \n",
      "dtypes: float64(3), int64(6), object(4)\n",
      "memory usage: 5.8+ MB\n"
     ]
    }
   ],
   "source": [
    "# Get the basic information about the data\n",
    "data.info()"
   ]
  },
  {
   "cell_type": "code",
   "execution_count": 6,
   "id": "90e07d38-613a-45f4-9ec6-611d41a22c0b",
   "metadata": {
    "scrolled": true
   },
   "outputs": [
    {
     "data": {
      "text/html": [
       "<div>\n",
       "<style scoped>\n",
       "    .dataframe tbody tr th:only-of-type {\n",
       "        vertical-align: middle;\n",
       "    }\n",
       "\n",
       "    .dataframe tbody tr th {\n",
       "        vertical-align: top;\n",
       "    }\n",
       "\n",
       "    .dataframe thead th {\n",
       "        text-align: right;\n",
       "    }\n",
       "</style>\n",
       "<table border=\"1\" class=\"dataframe\">\n",
       "  <thead>\n",
       "    <tr style=\"text-align: right;\">\n",
       "      <th></th>\n",
       "      <th>id</th>\n",
       "      <th>person_age</th>\n",
       "      <th>person_income</th>\n",
       "      <th>person_emp_length</th>\n",
       "      <th>loan_amnt</th>\n",
       "      <th>loan_int_rate</th>\n",
       "      <th>loan_percent_income</th>\n",
       "      <th>cb_person_cred_hist_length</th>\n",
       "      <th>loan_status</th>\n",
       "    </tr>\n",
       "  </thead>\n",
       "  <tbody>\n",
       "    <tr>\n",
       "      <th>count</th>\n",
       "      <td>58645.000000</td>\n",
       "      <td>58645.000000</td>\n",
       "      <td>5.864500e+04</td>\n",
       "      <td>58645.000000</td>\n",
       "      <td>58645.000000</td>\n",
       "      <td>58645.000000</td>\n",
       "      <td>58645.000000</td>\n",
       "      <td>58645.000000</td>\n",
       "      <td>58645.000000</td>\n",
       "    </tr>\n",
       "    <tr>\n",
       "      <th>mean</th>\n",
       "      <td>29322.000000</td>\n",
       "      <td>27.550857</td>\n",
       "      <td>6.404617e+04</td>\n",
       "      <td>4.701015</td>\n",
       "      <td>9217.556518</td>\n",
       "      <td>10.677874</td>\n",
       "      <td>0.159238</td>\n",
       "      <td>5.813556</td>\n",
       "      <td>0.142382</td>\n",
       "    </tr>\n",
       "    <tr>\n",
       "      <th>std</th>\n",
       "      <td>16929.497605</td>\n",
       "      <td>6.033216</td>\n",
       "      <td>3.793111e+04</td>\n",
       "      <td>3.959784</td>\n",
       "      <td>5563.807384</td>\n",
       "      <td>3.034697</td>\n",
       "      <td>0.091692</td>\n",
       "      <td>4.029196</td>\n",
       "      <td>0.349445</td>\n",
       "    </tr>\n",
       "    <tr>\n",
       "      <th>min</th>\n",
       "      <td>0.000000</td>\n",
       "      <td>20.000000</td>\n",
       "      <td>4.200000e+03</td>\n",
       "      <td>0.000000</td>\n",
       "      <td>500.000000</td>\n",
       "      <td>5.420000</td>\n",
       "      <td>0.000000</td>\n",
       "      <td>2.000000</td>\n",
       "      <td>0.000000</td>\n",
       "    </tr>\n",
       "    <tr>\n",
       "      <th>25%</th>\n",
       "      <td>14661.000000</td>\n",
       "      <td>23.000000</td>\n",
       "      <td>4.200000e+04</td>\n",
       "      <td>2.000000</td>\n",
       "      <td>5000.000000</td>\n",
       "      <td>7.880000</td>\n",
       "      <td>0.090000</td>\n",
       "      <td>3.000000</td>\n",
       "      <td>0.000000</td>\n",
       "    </tr>\n",
       "    <tr>\n",
       "      <th>50%</th>\n",
       "      <td>29322.000000</td>\n",
       "      <td>26.000000</td>\n",
       "      <td>5.800000e+04</td>\n",
       "      <td>4.000000</td>\n",
       "      <td>8000.000000</td>\n",
       "      <td>10.750000</td>\n",
       "      <td>0.140000</td>\n",
       "      <td>4.000000</td>\n",
       "      <td>0.000000</td>\n",
       "    </tr>\n",
       "    <tr>\n",
       "      <th>75%</th>\n",
       "      <td>43983.000000</td>\n",
       "      <td>30.000000</td>\n",
       "      <td>7.560000e+04</td>\n",
       "      <td>7.000000</td>\n",
       "      <td>12000.000000</td>\n",
       "      <td>12.990000</td>\n",
       "      <td>0.210000</td>\n",
       "      <td>8.000000</td>\n",
       "      <td>0.000000</td>\n",
       "    </tr>\n",
       "    <tr>\n",
       "      <th>max</th>\n",
       "      <td>58644.000000</td>\n",
       "      <td>123.000000</td>\n",
       "      <td>1.900000e+06</td>\n",
       "      <td>123.000000</td>\n",
       "      <td>35000.000000</td>\n",
       "      <td>23.220000</td>\n",
       "      <td>0.830000</td>\n",
       "      <td>30.000000</td>\n",
       "      <td>1.000000</td>\n",
       "    </tr>\n",
       "  </tbody>\n",
       "</table>\n",
       "</div>"
      ],
      "text/plain": [
       "                 id    person_age  person_income  person_emp_length  \\\n",
       "count  58645.000000  58645.000000   5.864500e+04       58645.000000   \n",
       "mean   29322.000000     27.550857   6.404617e+04           4.701015   \n",
       "std    16929.497605      6.033216   3.793111e+04           3.959784   \n",
       "min        0.000000     20.000000   4.200000e+03           0.000000   \n",
       "25%    14661.000000     23.000000   4.200000e+04           2.000000   \n",
       "50%    29322.000000     26.000000   5.800000e+04           4.000000   \n",
       "75%    43983.000000     30.000000   7.560000e+04           7.000000   \n",
       "max    58644.000000    123.000000   1.900000e+06         123.000000   \n",
       "\n",
       "          loan_amnt  loan_int_rate  loan_percent_income  \\\n",
       "count  58645.000000   58645.000000         58645.000000   \n",
       "mean    9217.556518      10.677874             0.159238   \n",
       "std     5563.807384       3.034697             0.091692   \n",
       "min      500.000000       5.420000             0.000000   \n",
       "25%     5000.000000       7.880000             0.090000   \n",
       "50%     8000.000000      10.750000             0.140000   \n",
       "75%    12000.000000      12.990000             0.210000   \n",
       "max    35000.000000      23.220000             0.830000   \n",
       "\n",
       "       cb_person_cred_hist_length   loan_status  \n",
       "count                58645.000000  58645.000000  \n",
       "mean                     5.813556      0.142382  \n",
       "std                      4.029196      0.349445  \n",
       "min                      2.000000      0.000000  \n",
       "25%                      3.000000      0.000000  \n",
       "50%                      4.000000      0.000000  \n",
       "75%                      8.000000      0.000000  \n",
       "max                     30.000000      1.000000  "
      ]
     },
     "execution_count": 6,
     "metadata": {},
     "output_type": "execute_result"
    }
   ],
   "source": [
    "#Check the summary statistics of the numerical values in the data\n",
    "data.describe()"
   ]
  },
  {
   "cell_type": "code",
   "execution_count": 7,
   "id": "448ea14f-2923-4d01-83eb-47a71bf58253",
   "metadata": {},
   "outputs": [
    {
     "data": {
      "text/plain": [
       "id                            0\n",
       "person_age                    0\n",
       "person_income                 0\n",
       "person_home_ownership         0\n",
       "person_emp_length             0\n",
       "loan_intent                   0\n",
       "loan_grade                    0\n",
       "loan_amnt                     0\n",
       "loan_int_rate                 0\n",
       "loan_percent_income           0\n",
       "cb_person_default_on_file     0\n",
       "cb_person_cred_hist_length    0\n",
       "loan_status                   0\n",
       "dtype: int64"
      ]
     },
     "execution_count": 7,
     "metadata": {},
     "output_type": "execute_result"
    }
   ],
   "source": [
    "# Check for missing values\n",
    "data.isna().sum()"
   ]
  },
  {
   "cell_type": "code",
   "execution_count": 8,
   "id": "4b8b1057-5273-4bd0-9e31-83d2cd083be5",
   "metadata": {},
   "outputs": [
    {
     "data": {
      "text/plain": [
       "0"
      ]
     },
     "execution_count": 8,
     "metadata": {},
     "output_type": "execute_result"
    }
   ],
   "source": [
    "# Check for duplicates \n",
    "data.duplicated().sum()\n"
   ]
  },
  {
   "cell_type": "code",
   "execution_count": 9,
   "id": "f7c1d3bf-4f7a-43b2-bd37-d1172f6f0413",
   "metadata": {},
   "outputs": [
    {
     "data": {
      "image/png": "[encoded data removed]",
      "text/plain": [
       "<Figure size 1000x300 with 2 Axes>"
      ]
     },
     "metadata": {},
     "output_type": "display_data"
    }
   ],
   "source": [
    "# plot a boxplot for age and person_emp_length to identify outliers\n",
    "fig, ax= plt.subplots(1,2, figsize=(10,3))\n",
    "sns.boxplot(data=data, x='person_age', orient= 'h', ax=ax[0])\n",
    "ax[0].set_title('Boxplot for age distribution', fontsize='14')\n",
    "sns.boxplot(data=data, x='person_emp_length', ax=ax[1])\n",
    "ax[1].set_title('Boxplot for employment length', fontsize='14')\n",
    "\n",
    "plt.show()"
   ]
  },
  {
   "cell_type": "markdown",
   "id": "9f6b114a-3227-49b6-8376-965742d4717d",
   "metadata": {},
   "source": [
    "Above Box plot for age and person_emp_length has one row each with value 123 which are outliers"
   ]
  },
  {
   "cell_type": "code",
   "execution_count": 10,
   "id": "1f9be3a6-a7c8-4e3e-8516-4d437372d488",
   "metadata": {},
   "outputs": [],
   "source": [
    "# removing rows with person_age=123 and person_emp_length=123\n",
    "df1=data[(data['person_age']!= 123) & (data['person_emp_length']!= 123)]"
   ]
  },
  {
   "cell_type": "code",
   "execution_count": 11,
   "id": "6d514452-2002-4a1f-a945-94a8a6713280",
   "metadata": {},
   "outputs": [
    {
     "data": {
      "text/html": [
       "<div>\n",
       "<style scoped>\n",
       "    .dataframe tbody tr th:only-of-type {\n",
       "        vertical-align: middle;\n",
       "    }\n",
       "\n",
       "    .dataframe tbody tr th {\n",
       "        vertical-align: top;\n",
       "    }\n",
       "\n",
       "    .dataframe thead th {\n",
       "        text-align: right;\n",
       "    }\n",
       "</style>\n",
       "<table border=\"1\" class=\"dataframe\">\n",
       "  <thead>\n",
       "    <tr style=\"text-align: right;\">\n",
       "      <th></th>\n",
       "      <th>id</th>\n",
       "      <th>person_age</th>\n",
       "      <th>person_income</th>\n",
       "      <th>person_emp_length</th>\n",
       "      <th>loan_amnt</th>\n",
       "      <th>loan_int_rate</th>\n",
       "      <th>loan_percent_income</th>\n",
       "      <th>cb_person_cred_hist_length</th>\n",
       "      <th>loan_status</th>\n",
       "    </tr>\n",
       "  </thead>\n",
       "  <tbody>\n",
       "    <tr>\n",
       "      <th>count</th>\n",
       "      <td>58642.000000</td>\n",
       "      <td>58642.000000</td>\n",
       "      <td>5.864200e+04</td>\n",
       "      <td>58642.000000</td>\n",
       "      <td>58642.000000</td>\n",
       "      <td>58642.000000</td>\n",
       "      <td>58642.000000</td>\n",
       "      <td>58642.000000</td>\n",
       "      <td>58642.000000</td>\n",
       "    </tr>\n",
       "    <tr>\n",
       "      <th>mean</th>\n",
       "      <td>29321.152468</td>\n",
       "      <td>27.549333</td>\n",
       "      <td>6.404453e+04</td>\n",
       "      <td>4.696941</td>\n",
       "      <td>9217.146448</td>\n",
       "      <td>10.677770</td>\n",
       "      <td>0.159235</td>\n",
       "      <td>5.813649</td>\n",
       "      <td>0.142372</td>\n",
       "    </tr>\n",
       "    <tr>\n",
       "      <th>std</th>\n",
       "      <td>16929.497527</td>\n",
       "      <td>6.020420</td>\n",
       "      <td>3.792822e+04</td>\n",
       "      <td>3.899139</td>\n",
       "      <td>5563.380070</td>\n",
       "      <td>3.034695</td>\n",
       "      <td>0.091690</td>\n",
       "      <td>4.029261</td>\n",
       "      <td>0.349435</td>\n",
       "    </tr>\n",
       "    <tr>\n",
       "      <th>min</th>\n",
       "      <td>0.000000</td>\n",
       "      <td>20.000000</td>\n",
       "      <td>4.200000e+03</td>\n",
       "      <td>0.000000</td>\n",
       "      <td>500.000000</td>\n",
       "      <td>5.420000</td>\n",
       "      <td>0.000000</td>\n",
       "      <td>2.000000</td>\n",
       "      <td>0.000000</td>\n",
       "    </tr>\n",
       "    <tr>\n",
       "      <th>25%</th>\n",
       "      <td>14660.250000</td>\n",
       "      <td>23.000000</td>\n",
       "      <td>4.200000e+04</td>\n",
       "      <td>2.000000</td>\n",
       "      <td>5000.000000</td>\n",
       "      <td>7.880000</td>\n",
       "      <td>0.090000</td>\n",
       "      <td>3.000000</td>\n",
       "      <td>0.000000</td>\n",
       "    </tr>\n",
       "    <tr>\n",
       "      <th>50%</th>\n",
       "      <td>29320.500000</td>\n",
       "      <td>26.000000</td>\n",
       "      <td>5.800000e+04</td>\n",
       "      <td>4.000000</td>\n",
       "      <td>8000.000000</td>\n",
       "      <td>10.750000</td>\n",
       "      <td>0.140000</td>\n",
       "      <td>4.000000</td>\n",
       "      <td>0.000000</td>\n",
       "    </tr>\n",
       "    <tr>\n",
       "      <th>75%</th>\n",
       "      <td>43981.750000</td>\n",
       "      <td>30.000000</td>\n",
       "      <td>7.560000e+04</td>\n",
       "      <td>7.000000</td>\n",
       "      <td>12000.000000</td>\n",
       "      <td>12.990000</td>\n",
       "      <td>0.210000</td>\n",
       "      <td>8.000000</td>\n",
       "      <td>0.000000</td>\n",
       "    </tr>\n",
       "    <tr>\n",
       "      <th>max</th>\n",
       "      <td>58644.000000</td>\n",
       "      <td>84.000000</td>\n",
       "      <td>1.900000e+06</td>\n",
       "      <td>41.000000</td>\n",
       "      <td>35000.000000</td>\n",
       "      <td>23.220000</td>\n",
       "      <td>0.830000</td>\n",
       "      <td>30.000000</td>\n",
       "      <td>1.000000</td>\n",
       "    </tr>\n",
       "  </tbody>\n",
       "</table>\n",
       "</div>"
      ],
      "text/plain": [
       "                 id    person_age  person_income  person_emp_length  \\\n",
       "count  58642.000000  58642.000000   5.864200e+04       58642.000000   \n",
       "mean   29321.152468     27.549333   6.404453e+04           4.696941   \n",
       "std    16929.497527      6.020420   3.792822e+04           3.899139   \n",
       "min        0.000000     20.000000   4.200000e+03           0.000000   \n",
       "25%    14660.250000     23.000000   4.200000e+04           2.000000   \n",
       "50%    29320.500000     26.000000   5.800000e+04           4.000000   \n",
       "75%    43981.750000     30.000000   7.560000e+04           7.000000   \n",
       "max    58644.000000     84.000000   1.900000e+06          41.000000   \n",
       "\n",
       "          loan_amnt  loan_int_rate  loan_percent_income  \\\n",
       "count  58642.000000   58642.000000         58642.000000   \n",
       "mean    9217.146448      10.677770             0.159235   \n",
       "std     5563.380070       3.034695             0.091690   \n",
       "min      500.000000       5.420000             0.000000   \n",
       "25%     5000.000000       7.880000             0.090000   \n",
       "50%     8000.000000      10.750000             0.140000   \n",
       "75%    12000.000000      12.990000             0.210000   \n",
       "max    35000.000000      23.220000             0.830000   \n",
       "\n",
       "       cb_person_cred_hist_length   loan_status  \n",
       "count                58642.000000  58642.000000  \n",
       "mean                     5.813649      0.142372  \n",
       "std                      4.029261      0.349435  \n",
       "min                      2.000000      0.000000  \n",
       "25%                      3.000000      0.000000  \n",
       "50%                      4.000000      0.000000  \n",
       "75%                      8.000000      0.000000  \n",
       "max                     30.000000      1.000000  "
      ]
     },
     "execution_count": 11,
     "metadata": {},
     "output_type": "execute_result"
    }
   ],
   "source": [
    "df1.describe()"
   ]
  },
  {
   "cell_type": "code",
   "execution_count": 12,
   "id": "f409b8b7-83c0-469a-bd41-c2207f4a56ad",
   "metadata": {},
   "outputs": [],
   "source": [
    "#saving the cleaned file to csv for further data visualization in tableau\n",
    "\n",
    "df1.to_csv('data_loan_cleaned.csv', index=False)"
   ]
  },
  {
   "cell_type": "code",
   "execution_count": 13,
   "id": "67bc1be4-e233-4584-ac53-e68845d8de18",
   "metadata": {},
   "outputs": [],
   "source": [
    "#loading the cleaned dataset to variable data for further modeling\n",
    "data= pd.read_csv('data_loan_cleaned.csv')"
   ]
  },
  {
   "cell_type": "code",
   "execution_count": 14,
   "id": "4cc99b15-639a-469e-932f-d1921a0ef5b2",
   "metadata": {},
   "outputs": [
    {
     "name": "stdout",
     "output_type": "stream",
     "text": [
      "<class 'pandas.core.frame.DataFrame'>\n",
      "RangeIndex: 58642 entries, 0 to 58641\n",
      "Data columns (total 13 columns):\n",
      " #   Column                      Non-Null Count  Dtype  \n",
      "---  ------                      --------------  -----  \n",
      " 0   id                          58642 non-null  int64  \n",
      " 1   person_age                  58642 non-null  int64  \n",
      " 2   person_income               58642 non-null  int64  \n",
      " 3   person_home_ownership       58642 non-null  object \n",
      " 4   person_emp_length           58642 non-null  float64\n",
      " 5   loan_intent                 58642 non-null  object \n",
      " 6   loan_grade                  58642 non-null  object \n",
      " 7   loan_amnt                   58642 non-null  int64  \n",
      " 8   loan_int_rate               58642 non-null  float64\n",
      " 9   loan_percent_income         58642 non-null  float64\n",
      " 10  cb_person_default_on_file   58642 non-null  object \n",
      " 11  cb_person_cred_hist_length  58642 non-null  int64  \n",
      " 12  loan_status                 58642 non-null  int64  \n",
      "dtypes: float64(3), int64(6), object(4)\n",
      "memory usage: 5.8+ MB\n"
     ]
    }
   ],
   "source": [
    "data.info()"
   ]
  },
  {
   "cell_type": "code",
   "execution_count": 15,
   "id": "f0c0f718-0922-42bc-97a6-1d7454429a76",
   "metadata": {},
   "outputs": [
    {
     "data": {
      "text/plain": [
       "loan_status\n",
       "0    0.857628\n",
       "1    0.142372\n",
       "Name: proportion, dtype: float64"
      ]
     },
     "execution_count": 15,
     "metadata": {},
     "output_type": "execute_result"
    }
   ],
   "source": [
    "# Check the class balance for the target variable 'loan_status'\n",
    "data['loan_status'].value_counts(normalize= True)"
   ]
  },
  {
   "cell_type": "markdown",
   "id": "575d30e0-2557-47aa-83b1-151d1e7b2090",
   "metadata": {},
   "source": [
    "The class balance here is 85% to 15% which isnt ideal but not worse. And since dataset has enough number of both positive and negative classes, we continue without any further balancing like over sampling or down-sampling as it might result overfitting"
   ]
  },
  {
   "cell_type": "code",
   "execution_count": 16,
   "id": "3f09bc13-210b-47e1-8cdb-f2ba6833472a",
   "metadata": {},
   "outputs": [
    {
     "data": {
      "text/plain": [
       "person_home_ownership\n",
       "RENT        30594\n",
       "MORTGAGE    24821\n",
       "OWN          3138\n",
       "OTHER          89\n",
       "Name: count, dtype: int64"
      ]
     },
     "execution_count": 16,
     "metadata": {},
     "output_type": "execute_result"
    }
   ],
   "source": [
    "#understanding the catogorical variables and converting them into numerical values\n",
    "data['person_home_ownership'].value_counts()"
   ]
  },
  {
   "cell_type": "code",
   "execution_count": 17,
   "id": "05ab64f4-acc6-491a-89c4-77b3c481e727",
   "metadata": {},
   "outputs": [
    {
     "data": {
      "text/plain": [
       "loan_grade\n",
       "A    20984\n",
       "B    20398\n",
       "C    11036\n",
       "D     5033\n",
       "E     1009\n",
       "F      149\n",
       "G       33\n",
       "Name: count, dtype: int64"
      ]
     },
     "execution_count": 17,
     "metadata": {},
     "output_type": "execute_result"
    }
   ],
   "source": [
    "data['loan_grade'].value_counts()"
   ]
  },
  {
   "cell_type": "code",
   "execution_count": 18,
   "id": "c60bff05-cc47-4120-9cda-ab0926e7efe4",
   "metadata": {},
   "outputs": [
    {
     "data": {
      "text/plain": [
       "loan_intent\n",
       "EDUCATION            12271\n",
       "MEDICAL              10933\n",
       "PERSONAL             10015\n",
       "VENTURE              10010\n",
       "DEBTCONSOLIDATION     9133\n",
       "HOMEIMPROVEMENT       6280\n",
       "Name: count, dtype: int64"
      ]
     },
     "execution_count": 18,
     "metadata": {},
     "output_type": "execute_result"
    }
   ],
   "source": [
    "data['loan_intent'].value_counts()"
   ]
  },
  {
   "cell_type": "code",
   "execution_count": 19,
   "id": "f46011a7-3ebf-4213-a72d-778b30e7e724",
   "metadata": {},
   "outputs": [
    {
     "data": {
      "text/plain": [
       "cb_person_default_on_file\n",
       "N    49941\n",
       "Y     8701\n",
       "Name: count, dtype: int64"
      ]
     },
     "execution_count": 19,
     "metadata": {},
     "output_type": "execute_result"
    }
   ],
   "source": [
    "data['cb_person_default_on_file'].value_counts()"
   ]
  },
  {
   "cell_type": "code",
   "execution_count": 20,
   "id": "26b75d71-a988-4db9-93fd-190269086478",
   "metadata": {},
   "outputs": [
    {
     "data": {
      "text/html": [
       "<div>\n",
       "<style scoped>\n",
       "    .dataframe tbody tr th:only-of-type {\n",
       "        vertical-align: middle;\n",
       "    }\n",
       "\n",
       "    .dataframe tbody tr th {\n",
       "        vertical-align: top;\n",
       "    }\n",
       "\n",
       "    .dataframe thead th {\n",
       "        text-align: right;\n",
       "    }\n",
       "</style>\n",
       "<table border=\"1\" class=\"dataframe\">\n",
       "  <thead>\n",
       "    <tr style=\"text-align: right;\">\n",
       "      <th></th>\n",
       "      <th>id</th>\n",
       "      <th>person_age</th>\n",
       "      <th>person_income</th>\n",
       "      <th>person_emp_length</th>\n",
       "      <th>loan_amnt</th>\n",
       "      <th>loan_int_rate</th>\n",
       "      <th>loan_percent_income</th>\n",
       "      <th>cb_person_cred_hist_length</th>\n",
       "      <th>loan_status</th>\n",
       "      <th>person_home_ownership_OTHER</th>\n",
       "      <th>...</th>\n",
       "      <th>loan_intent_MEDICAL</th>\n",
       "      <th>loan_intent_PERSONAL</th>\n",
       "      <th>loan_intent_VENTURE</th>\n",
       "      <th>loan_grade_B</th>\n",
       "      <th>loan_grade_C</th>\n",
       "      <th>loan_grade_D</th>\n",
       "      <th>loan_grade_E</th>\n",
       "      <th>loan_grade_F</th>\n",
       "      <th>loan_grade_G</th>\n",
       "      <th>cb_person_default_on_file_Y</th>\n",
       "    </tr>\n",
       "  </thead>\n",
       "  <tbody>\n",
       "    <tr>\n",
       "      <th>0</th>\n",
       "      <td>0</td>\n",
       "      <td>37</td>\n",
       "      <td>35000</td>\n",
       "      <td>0.0</td>\n",
       "      <td>6000</td>\n",
       "      <td>11.49</td>\n",
       "      <td>0.17</td>\n",
       "      <td>14</td>\n",
       "      <td>0</td>\n",
       "      <td>0</td>\n",
       "      <td>...</td>\n",
       "      <td>0</td>\n",
       "      <td>0</td>\n",
       "      <td>0</td>\n",
       "      <td>1</td>\n",
       "      <td>0</td>\n",
       "      <td>0</td>\n",
       "      <td>0</td>\n",
       "      <td>0</td>\n",
       "      <td>0</td>\n",
       "      <td>0</td>\n",
       "    </tr>\n",
       "    <tr>\n",
       "      <th>1</th>\n",
       "      <td>1</td>\n",
       "      <td>22</td>\n",
       "      <td>56000</td>\n",
       "      <td>6.0</td>\n",
       "      <td>4000</td>\n",
       "      <td>13.35</td>\n",
       "      <td>0.07</td>\n",
       "      <td>2</td>\n",
       "      <td>0</td>\n",
       "      <td>0</td>\n",
       "      <td>...</td>\n",
       "      <td>1</td>\n",
       "      <td>0</td>\n",
       "      <td>0</td>\n",
       "      <td>0</td>\n",
       "      <td>1</td>\n",
       "      <td>0</td>\n",
       "      <td>0</td>\n",
       "      <td>0</td>\n",
       "      <td>0</td>\n",
       "      <td>0</td>\n",
       "    </tr>\n",
       "    <tr>\n",
       "      <th>2</th>\n",
       "      <td>2</td>\n",
       "      <td>29</td>\n",
       "      <td>28800</td>\n",
       "      <td>8.0</td>\n",
       "      <td>6000</td>\n",
       "      <td>8.90</td>\n",
       "      <td>0.21</td>\n",
       "      <td>10</td>\n",
       "      <td>0</td>\n",
       "      <td>0</td>\n",
       "      <td>...</td>\n",
       "      <td>0</td>\n",
       "      <td>1</td>\n",
       "      <td>0</td>\n",
       "      <td>0</td>\n",
       "      <td>0</td>\n",
       "      <td>0</td>\n",
       "      <td>0</td>\n",
       "      <td>0</td>\n",
       "      <td>0</td>\n",
       "      <td>0</td>\n",
       "    </tr>\n",
       "    <tr>\n",
       "      <th>3</th>\n",
       "      <td>3</td>\n",
       "      <td>30</td>\n",
       "      <td>70000</td>\n",
       "      <td>14.0</td>\n",
       "      <td>12000</td>\n",
       "      <td>11.11</td>\n",
       "      <td>0.17</td>\n",
       "      <td>5</td>\n",
       "      <td>0</td>\n",
       "      <td>0</td>\n",
       "      <td>...</td>\n",
       "      <td>0</td>\n",
       "      <td>0</td>\n",
       "      <td>1</td>\n",
       "      <td>1</td>\n",
       "      <td>0</td>\n",
       "      <td>0</td>\n",
       "      <td>0</td>\n",
       "      <td>0</td>\n",
       "      <td>0</td>\n",
       "      <td>0</td>\n",
       "    </tr>\n",
       "    <tr>\n",
       "      <th>4</th>\n",
       "      <td>4</td>\n",
       "      <td>22</td>\n",
       "      <td>60000</td>\n",
       "      <td>2.0</td>\n",
       "      <td>6000</td>\n",
       "      <td>6.92</td>\n",
       "      <td>0.10</td>\n",
       "      <td>3</td>\n",
       "      <td>0</td>\n",
       "      <td>0</td>\n",
       "      <td>...</td>\n",
       "      <td>1</td>\n",
       "      <td>0</td>\n",
       "      <td>0</td>\n",
       "      <td>0</td>\n",
       "      <td>0</td>\n",
       "      <td>0</td>\n",
       "      <td>0</td>\n",
       "      <td>0</td>\n",
       "      <td>0</td>\n",
       "      <td>0</td>\n",
       "    </tr>\n",
       "  </tbody>\n",
       "</table>\n",
       "<p>5 rows × 24 columns</p>\n",
       "</div>"
      ],
      "text/plain": [
       "   id  person_age  person_income  person_emp_length  loan_amnt  loan_int_rate  \\\n",
       "0   0          37          35000                0.0       6000          11.49   \n",
       "1   1          22          56000                6.0       4000          13.35   \n",
       "2   2          29          28800                8.0       6000           8.90   \n",
       "3   3          30          70000               14.0      12000          11.11   \n",
       "4   4          22          60000                2.0       6000           6.92   \n",
       "\n",
       "   loan_percent_income  cb_person_cred_hist_length  loan_status  \\\n",
       "0                 0.17                          14            0   \n",
       "1                 0.07                           2            0   \n",
       "2                 0.21                          10            0   \n",
       "3                 0.17                           5            0   \n",
       "4                 0.10                           3            0   \n",
       "\n",
       "   person_home_ownership_OTHER  ...  loan_intent_MEDICAL  \\\n",
       "0                            0  ...                    0   \n",
       "1                            0  ...                    1   \n",
       "2                            0  ...                    0   \n",
       "3                            0  ...                    0   \n",
       "4                            0  ...                    1   \n",
       "\n",
       "   loan_intent_PERSONAL  loan_intent_VENTURE  loan_grade_B  loan_grade_C  \\\n",
       "0                     0                    0             1             0   \n",
       "1                     0                    0             0             1   \n",
       "2                     1                    0             0             0   \n",
       "3                     0                    1             1             0   \n",
       "4                     0                    0             0             0   \n",
       "\n",
       "   loan_grade_D  loan_grade_E  loan_grade_F  loan_grade_G  \\\n",
       "0             0             0             0             0   \n",
       "1             0             0             0             0   \n",
       "2             0             0             0             0   \n",
       "3             0             0             0             0   \n",
       "4             0             0             0             0   \n",
       "\n",
       "   cb_person_default_on_file_Y  \n",
       "0                            0  \n",
       "1                            0  \n",
       "2                            0  \n",
       "3                            0  \n",
       "4                            0  \n",
       "\n",
       "[5 rows x 24 columns]"
      ]
     },
     "execution_count": 20,
     "metadata": {},
     "output_type": "execute_result"
    }
   ],
   "source": [
    "#converting all the catogorical variables into dummy encode for the modeling and save to new variable\n",
    "df_encoded= pd.get_dummies(data, drop_first = 'True', dtype = int)\n",
    "df_encoded.head()"
   ]
  },
  {
   "cell_type": "code",
   "execution_count": 21,
   "id": "f28978fd-38ca-4a83-9323-6ee81af06b9e",
   "metadata": {},
   "outputs": [],
   "source": [
    "# removing column 'id' as its no longer user for modeling\n",
    "df_encoded = df_encoded.drop('id', axis=1)"
   ]
  },
  {
   "cell_type": "code",
   "execution_count": 22,
   "id": "bca527bf-ee7b-4fd9-a99a-727b53e260e2",
   "metadata": {},
   "outputs": [
    {
     "name": "stdout",
     "output_type": "stream",
     "text": [
      "   person_age  person_income  person_emp_length  loan_amnt  loan_int_rate  \\\n",
      "0          37          35000                0.0       6000          11.49   \n",
      "1          22          56000                6.0       4000          13.35   \n",
      "2          29          28800                8.0       6000           8.90   \n",
      "3          30          70000               14.0      12000          11.11   \n",
      "4          22          60000                2.0       6000           6.92   \n",
      "\n",
      "   loan_percent_income  cb_person_cred_hist_length  \\\n",
      "0                 0.17                          14   \n",
      "1                 0.07                           2   \n",
      "2                 0.21                          10   \n",
      "3                 0.17                           5   \n",
      "4                 0.10                           3   \n",
      "\n",
      "   person_home_ownership_OTHER  person_home_ownership_OWN  \\\n",
      "0                            0                          0   \n",
      "1                            0                          1   \n",
      "2                            0                          1   \n",
      "3                            0                          0   \n",
      "4                            0                          0   \n",
      "\n",
      "   person_home_ownership_RENT  ...  loan_intent_MEDICAL  loan_intent_PERSONAL  \\\n",
      "0                           1  ...                    0                     0   \n",
      "1                           0  ...                    1                     0   \n",
      "2                           0  ...                    0                     1   \n",
      "3                           1  ...                    0                     0   \n",
      "4                           1  ...                    1                     0   \n",
      "\n",
      "   loan_intent_VENTURE  loan_grade_B  loan_grade_C  loan_grade_D  \\\n",
      "0                    0             1             0             0   \n",
      "1                    0             0             1             0   \n",
      "2                    0             0             0             0   \n",
      "3                    1             1             0             0   \n",
      "4                    0             0             0             0   \n",
      "\n",
      "   loan_grade_E  loan_grade_F  loan_grade_G  cb_person_default_on_file_Y  \n",
      "0             0             0             0                            0  \n",
      "1             0             0             0                            0  \n",
      "2             0             0             0                            0  \n",
      "3             0             0             0                            0  \n",
      "4             0             0             0                            0  \n",
      "\n",
      "[5 rows x 22 columns]\n",
      "0    0\n",
      "1    0\n",
      "2    0\n",
      "3    0\n",
      "4    0\n",
      "Name: loan_status, dtype: int64\n"
     ]
    }
   ],
   "source": [
    "# defining the target variable\n",
    "y= df_encoded['loan_status']\n",
    "\n",
    "# defining the predictor variables by removing the 'loan_status' and 'id'\n",
    "X = df_encoded.drop('loan_status', axis = 1)\n",
    "\n",
    "# printing first few rows of both X and y variables\n",
    "print(X.head())\n",
    "print(y.head())"
   ]
  },
  {
   "cell_type": "code",
   "execution_count": 23,
   "id": "632e8ac1-ef48-4d43-a33b-d17c55b19bd3",
   "metadata": {},
   "outputs": [
    {
     "data": {
      "text/plain": [
       "((41049, 22), (17593, 22), (41049,), (17593,))"
      ]
     },
     "execution_count": 23,
     "metadata": {},
     "output_type": "execute_result"
    }
   ],
   "source": [
    "# splitting data into train and test sets \n",
    "    X_train, X_test, y_train, y_test = train_test_split(X, y, test_size= 0.3, stratify = y, random_state = 42)\n",
    "    X_train.shape, X_test.shape, y_train.shape, y_test.shape"
   ]
  },
  {
   "cell_type": "code",
   "execution_count": 24,
   "id": "9792d950-905a-4c3e-9735-66003bd1083f",
   "metadata": {},
   "outputs": [
    {
     "name": "stdout",
     "output_type": "stream",
     "text": [
      "              precision    recall  f1-score   support\n",
      "\n",
      "           0       0.90      0.98      0.93     15088\n",
      "           1       0.70      0.31      0.43      2505\n",
      "\n",
      "    accuracy                           0.88     17593\n",
      "   macro avg       0.80      0.64      0.68     17593\n",
      "weighted avg       0.87      0.88      0.86     17593\n",
      "\n"
     ]
    },
    {
     "name": "stderr",
     "output_type": "stream",
     "text": [
      "C:\\Users\\nibin\\anaconda3\\Lib\\site-packages\\sklearn\\linear_model\\_logistic.py:469: ConvergenceWarning: lbfgs failed to converge (status=1):\n",
      "STOP: TOTAL NO. of ITERATIONS REACHED LIMIT.\n",
      "\n",
      "Increase the number of iterations (max_iter) or scale the data as shown in:\n",
      "    https://scikit-learn.org/stable/modules/preprocessing.html\n",
      "Please also refer to the documentation for alternative solver options:\n",
      "    https://scikit-learn.org/stable/modules/linear_model.html#logistic-regression\n",
      "  n_iter_i = _check_optimize_result(\n"
     ]
    }
   ],
   "source": [
    "# instantiate logistics regression model\n",
    "clf= LogisticRegression()\n",
    "clf.fit(X_train, y_train)\n",
    "y_pred = clf.predict(X_test)\n",
    "print(classification_report(y_test, y_pred))"
   ]
  },
  {
   "cell_type": "code",
   "execution_count": 25,
   "id": "fdce62fd-86b6-4e03-b232-25aa9a635163",
   "metadata": {},
   "outputs": [
    {
     "name": "stdout",
     "output_type": "stream",
     "text": [
      "Accuracy: 0.882737\n",
      "Precision: 0.699099\n",
      "Recall: 0.309780\n",
      "F1 Score: 0.429322\n"
     ]
    }
   ],
   "source": [
    " print(\"Accuracy:\", \"%.6f\" % metrics.accuracy_score(y_test, y_pred))\n",
    " print(\"Precision:\", \"%.6f\" % metrics.precision_score(y_test, y_pred))\n",
    " print(\"Recall:\", \"%.6f\" % metrics.recall_score(y_test, y_pred))\n",
    " print(\"F1 Score:\", \"%.6f\" % metrics.f1_score(y_test, y_pred))"
   ]
  },
  {
   "cell_type": "markdown",
   "id": "0a4013e3-3a8f-427d-be0f-0be44d22138c",
   "metadata": {},
   "source": [
    "The scores arent promising. This could be because the data isnt scaled. When the dataset is scaled and run again for the logistic regression, the results may get better."
   ]
  },
  {
   "cell_type": "code",
   "execution_count": 26,
   "id": "032c7375-1678-4025-a26c-aa0275996b27",
   "metadata": {},
   "outputs": [
    {
     "name": "stdout",
     "output_type": "stream",
     "text": [
      "              precision    recall  f1-score   support\n",
      "\n",
      "           0       0.93      0.97      0.95     15088\n",
      "           1       0.77      0.55      0.64      2505\n",
      "\n",
      "    accuracy                           0.91     17593\n",
      "   macro avg       0.85      0.76      0.80     17593\n",
      "weighted avg       0.91      0.91      0.91     17593\n",
      "\n"
     ]
    }
   ],
   "source": [
    "# creating a pipeline to scale the data and to run logistic regression\n",
    "\n",
    "steps = [('scaler', StandardScaler()), ('log_reg', LogisticRegression())]\n",
    "pipeline = Pipeline(steps)\n",
    "log_reg_scaled = pipeline.fit(X_train, y_train)\n",
    "y_pred_scaled = log_reg_scaled.predict(X_test)\n",
    "print(classification_report(y_test, y_pred_scaled))"
   ]
  },
  {
   "cell_type": "code",
   "execution_count": 27,
   "id": "7a6ff016-29a0-4a5d-b9e6-8e1454460bfb",
   "metadata": {},
   "outputs": [
    {
     "data": {
      "text/plain": [
       "<sklearn.metrics._plot.confusion_matrix.ConfusionMatrixDisplay at 0x1de41e09160>"
      ]
     },
     "execution_count": 27,
     "metadata": {},
     "output_type": "execute_result"
    },
    {
     "data": {
      "image/png": "[encoded data removed]",
      "text/plain": [
       "<Figure size 640x480 with 2 Axes>"
      ]
     },
     "metadata": {},
     "output_type": "display_data"
    }
   ],
   "source": [
    "cm= confusion_matrix(y_test, y_pred_scaled, labels = log_reg_scaled.classes_)\n",
    "disp = ConfusionMatrixDisplay(confusion_matrix = cm, display_labels= log_reg_scaled.classes_)\n",
    "disp.plot()"
   ]
  },
  {
   "cell_type": "code",
   "execution_count": 28,
   "id": "1bcac04c-cc1a-45e4-a23a-c3281c03b24c",
   "metadata": {},
   "outputs": [
    {
     "name": "stdout",
     "output_type": "stream",
     "text": [
      "Accuracy: 0.912636\n",
      "Precision: 0.773138\n",
      "Recall: 0.546906\n",
      "F1 Score: 0.640636\n"
     ]
    }
   ],
   "source": [
    " print(\"Accuracy:\", \"%.6f\" % metrics.accuracy_score(y_test, y_pred_scaled))\n",
    " print(\"Precision:\", \"%.6f\" % metrics.precision_score(y_test, y_pred_scaled))\n",
    " print(\"Recall:\", \"%.6f\" % metrics.recall_score(y_test, y_pred_scaled))\n",
    " print(\"F1 Score:\", \"%.6f\" % metrics.f1_score(y_test, y_pred_scaled))"
   ]
  },
  {
   "cell_type": "code",
   "execution_count": 29,
   "id": "7e84eb33-2618-4fd2-9dee-7261f170de1d",
   "metadata": {},
   "outputs": [],
   "source": [
    "# Random Forest Model and XGBoost\n",
    "\n",
    "rf = RandomForestClassifier(random_state = 0)\n",
    "# Create a dictionary of hyperparameters to tune\n",
    "cv_params = {'max_depth': [5, None],\n",
    "             'max_features': [0.3, 0.6],\n",
    "             'max_samples': [0.7],\n",
    "             'n_estimators': [75,100,125,150],             \n",
    "             }\n",
    "\n",
    "# Define a dictionary of scoring metrics to capture\n",
    "scoring = {'accuracy':'accuracy', 'precision':'precision', 'recall':'recall', 'f1':'f1'}\n",
    "\n",
    "# Instantiate the GridSearchCV object\n",
    "rf_cv = GridSearchCV(rf, cv_params,scoring = scoring, refit = 'precision', cv=5)\n"
   ]
  },
  {
   "cell_type": "code",
   "execution_count": 30,
   "id": "c84946ef-f293-4726-a551-2a06c2fbe8ed",
   "metadata": {},
   "outputs": [],
   "source": [
    "# %time\n",
    "#rf_cv.fit(X_train, y_train)"
   ]
  },
  {
   "cell_type": "code",
   "execution_count": 31,
   "id": "bb1f3d0d-d828-418e-ab7c-81c778380da8",
   "metadata": {},
   "outputs": [],
   "source": [
    "# Pickle the model\n",
    "#with open('rf_cv_model.pickle', 'wb') as file:\n",
    "#    pickle.dump(rf_cv, file)"
   ]
  },
  {
   "cell_type": "code",
   "execution_count": 32,
   "id": "dac0c69d-0512-4e18-8d18-ff16dee15f85",
   "metadata": {},
   "outputs": [],
   "source": [
    "# Read in pickled model\n",
    "with open('rf_cv_model.pickle', 'rb') as file:\n",
    " rf_cv = pickle.load(file)"
   ]
  },
  {
   "cell_type": "code",
   "execution_count": 33,
   "id": "7d4b1775-fa00-43a0-bb38-f6296cd41c9e",
   "metadata": {},
   "outputs": [
    {
     "data": {
      "text/plain": [
       "0.9501815170034851"
      ]
     },
     "execution_count": 33,
     "metadata": {},
     "output_type": "execute_result"
    }
   ],
   "source": [
    "rf_cv.best_score_"
   ]
  },
  {
   "cell_type": "code",
   "execution_count": 35,
   "id": "f1de2c87-1420-46e7-8389-3c090ed4ddbd",
   "metadata": {},
   "outputs": [],
   "source": [
    "y_pred_rf = rf_cv.best_estimator_.predict(X_test)"
   ]
  },
  {
   "cell_type": "code",
   "execution_count": 36,
   "id": "e0ee0191-f7dd-4d7b-95f0-8f58fdd7de0e",
   "metadata": {},
   "outputs": [
    {
     "name": "stdout",
     "output_type": "stream",
     "text": [
      "Accuracy: 0.951742\n",
      "Precision: 0.921160\n",
      "Recall: 0.722954\n",
      "F1 Score: 0.810110\n"
     ]
    }
   ],
   "source": [
    " print(\"Accuracy:\", \"%.6f\" % metrics.accuracy_score(y_test, y_pred_rf))\n",
    " print(\"Precision:\", \"%.6f\" % metrics.precision_score(y_test, y_pred_rf))\n",
    " print(\"Recall:\", \"%.6f\" % metrics.recall_score(y_test, y_pred_rf))\n",
    " print(\"F1 Score:\", \"%.6f\" % metrics.f1_score(y_test, y_pred_rf))"
   ]
  },
  {
   "cell_type": "code",
   "execution_count": 37,
   "id": "aacf052d-347d-4b5b-b9a5-af6f5baa10a5",
   "metadata": {},
   "outputs": [
    {
     "name": "stdout",
     "output_type": "stream",
     "text": [
      "              precision    recall  f1-score   support\n",
      "\n",
      "           0       0.96      0.99      0.97     15088\n",
      "           1       0.92      0.72      0.81      2505\n",
      "\n",
      "    accuracy                           0.95     17593\n",
      "   macro avg       0.94      0.86      0.89     17593\n",
      "weighted avg       0.95      0.95      0.95     17593\n",
      "\n"
     ]
    }
   ],
   "source": [
    "print(classification_report(y_test, y_pred_rf))"
   ]
  },
  {
   "cell_type": "code",
   "execution_count": 38,
   "id": "ea882fdd-a929-4756-b5d2-33ead0359dfe",
   "metadata": {},
   "outputs": [
    {
     "data": {
      "image/png": "[encoded data removed]",
      "text/plain": [
       "<Figure size 640x480 with 2 Axes>"
      ]
     },
     "metadata": {},
     "output_type": "display_data"
    }
   ],
   "source": [
    "# Compute values for confusion matrix\n",
    "rf_cm = confusion_matrix(y_test, y_pred_rf)\n",
    "\n",
    "# Create display of confusion matrix\n",
    "rf_disp = ConfusionMatrixDisplay(confusion_matrix=rf_cm, display_labels=None)\n",
    "\n",
    "# Plot confusion matrix\n",
    "rf_disp.plot()\n",
    "\n",
    "# Display plot\n",
    "plt.title('Random forest - test set');\n",
    "plt.show()"
   ]
  },
  {
   "cell_type": "code",
   "execution_count": 39,
   "id": "cce435ac-a39d-49a9-a83e-bb936bb44f71",
   "metadata": {},
   "outputs": [],
   "source": [
    "# Instantiate the XGBoost classifier\n",
    "xgb = XGBClassifier(objective='binary:logistic', random_state=0)\n",
    "\n",
    "# Create a dictionary of hyperparameters to tune\n",
    "cv_params = {'max_depth': [7,8,9,None],\n",
    "             'min_child_weight': [3, 5],\n",
    "             'learning_rate': [0.01, 0.1],\n",
    "             'n_estimators': [100,150,175]\n",
    "             }\n",
    "\n",
    "# Define a dictionary of scoring metrics to capture\n",
    "scoring = {'accuracy':'accuracy', 'precision':'precision', 'recall':'recall', 'f1':'f1'}\n",
    "\n",
    "# Instantiate the GridSearchCV object\n",
    "xgb_cv = GridSearchCV(xgb, cv_params, scoring=scoring, cv=6, refit='f1')"
   ]
  },
  {
   "cell_type": "code",
   "execution_count": 40,
   "id": "0a68676d-7f8e-48e7-9188-87123d3b3b32",
   "metadata": {},
   "outputs": [],
   "source": [
    "#%time\n",
    "#xgb_cv.fit(X_train, y_train)"
   ]
  },
  {
   "cell_type": "code",
   "execution_count": 41,
   "id": "fc471ce0-82f7-43f4-b944-75d86cd7f7a4",
   "metadata": {},
   "outputs": [],
   "source": [
    "#Pickle the model\n",
    "#with open('xgb_cv_model.pickle', 'wb') as file:\n",
    "#    pickle.dump(xgb_cv, file)"
   ]
  },
  {
   "cell_type": "code",
   "execution_count": 42,
   "id": "d1e43a8a-626d-4b79-af7b-67313e255f98",
   "metadata": {},
   "outputs": [],
   "source": [
    "# Read in pickled model\n",
    "with open('xgb_cv_model.pickle', 'rb') as file:\n",
    " xgb_cv = pickle.load(file)"
   ]
  },
  {
   "cell_type": "code",
   "execution_count": 43,
   "id": "ac6abfba-aaa8-4f8e-bb38-d676a578998b",
   "metadata": {},
   "outputs": [
    {
     "name": "stdout",
     "output_type": "stream",
     "text": [
      "0.8112010608905319\n",
      "{'learning_rate': 0.1, 'max_depth': 7, 'min_child_weight': 5, 'n_estimators': 175}\n"
     ]
    }
   ],
   "source": [
    "print(xgb_cv.best_score_)\n",
    "print(xgb_cv.best_params_)"
   ]
  },
  {
   "cell_type": "code",
   "execution_count": 44,
   "id": "d44be26e-eb4d-4602-a2d8-2fc5a39f2da7",
   "metadata": {},
   "outputs": [],
   "source": [
    "y_pred_xgb = xgb_cv.best_estimator_.predict(X_test)"
   ]
  },
  {
   "cell_type": "code",
   "execution_count": 45,
   "id": "69aa8391-f81c-4f87-af6f-cb0b20696d60",
   "metadata": {},
   "outputs": [
    {
     "name": "stdout",
     "output_type": "stream",
     "text": [
      "              precision    recall  f1-score   support\n",
      "\n",
      "           0       0.96      0.99      0.97     15088\n",
      "           1       0.92      0.73      0.82      2505\n",
      "\n",
      "    accuracy                           0.95     17593\n",
      "   macro avg       0.94      0.86      0.89     17593\n",
      "weighted avg       0.95      0.95      0.95     17593\n",
      "\n"
     ]
    }
   ],
   "source": [
    "print(classification_report(y_test, y_pred_xgb))"
   ]
  },
  {
   "cell_type": "code",
   "execution_count": 46,
   "id": "5ccfad60-8520-4427-827e-2ceba2eda39d",
   "metadata": {},
   "outputs": [
    {
     "data": {
      "image/png": "[encoded data removed]",
      "text/plain": [
       "<Figure size 640x480 with 2 Axes>"
      ]
     },
     "metadata": {},
     "output_type": "display_data"
    }
   ],
   "source": [
    "# Compute values for confusion matrix\n",
    "xgb_cm = confusion_matrix(y_test, y_pred_xgb)\n",
    "\n",
    "# Create display of confusion matrix\n",
    "xgb_disp = ConfusionMatrixDisplay(confusion_matrix=xgb_cm, display_labels=None)\n",
    "\n",
    "# Plot confusion matrix\n",
    "xgb_disp.plot()\n",
    "\n",
    "# Display plot\n",
    "plt.title('Xtreme Gradient Boosting - test set');\n",
    "plt.show()"
   ]
  },
  {
   "cell_type": "code",
   "execution_count": 47,
   "id": "f7ad4a76-35a9-4b3c-a8ed-19653d30fd32",
   "metadata": {},
   "outputs": [
    {
     "name": "stdout",
     "output_type": "stream",
     "text": [
      "Accuracy: 0.952765\n",
      "Precision: 0.916833\n",
      "Recall: 0.734930\n",
      "F1 Score: 0.815865\n"
     ]
    }
   ],
   "source": [
    "#print the metrics scores\n",
    "print(\"Accuracy:\", \"%.6f\" % metrics.accuracy_score(y_test, y_pred_xgb))\n",
    " print(\"Precision:\", \"%.6f\" % metrics.precision_score(y_test, y_pred_xgb))\n",
    " print(\"Recall:\", \"%.6f\" % metrics.recall_score(y_test, y_pred_xgb))\n",
    " print(\"F1 Score:\", \"%.6f\" % metrics.f1_score(y_test, y_pred_xgb))"
   ]
  },
  {
   "cell_type": "markdown",
   "id": "79a1d8ae-23b1-4c6c-b8ff-265cabf64bc6",
   "metadata": {},
   "source": [
    "From comparing the results of the models, Random Forest model is the one that gives the highest precision score and hence we select RF as the Champion model"
   ]
  },
  {
   "cell_type": "code",
   "execution_count": 62,
   "id": "59ccc277-ed1b-456c-87cb-2008231a6734",
   "metadata": {},
   "outputs": [
    {
     "data": {
      "image/png": "[encoded data removed]",
      "text/plain": [
       "<Figure size 640x480 with 1 Axes>"
      ]
     },
     "metadata": {},
     "output_type": "display_data"
    }
   ],
   "source": [
    "#plotting the feature importance variable to identify the most important features of the Random Forest Model\n",
    "importances = rf_cv.best_estimator_.feature_importances_\n",
    "rf_importances = pd.Series(importances, index= X_test.columns).sort_values(ascending=False)\n",
    "\n",
    "fig,ax = plt.subplots()\n",
    "rf_importances.plot.bar(ax=ax)\n",
    "ax.set_title('Feature Importance of Random Forest Model')\n",
    "ax.set_ylabel('Mean decrease in impurity')\n",
    "fig.tight_layout()"
   ]
  },
  {
   "cell_type": "code",
   "execution_count": null,
   "id": "f2696d08-8d3c-4138-8333-ba085b318724",
   "metadata": {},
   "outputs": [],
   "source": []
  }
 ],
 "metadata": {
  "kernelspec": {
   "display_name": "Python 3 (ipykernel)",
   "language": "python",
   "name": "python3"
  },
  "language_info": {
   "codemirror_mode": {
    "name": "ipython",
    "version": 3
   },
   "file_extension": ".py",
   "mimetype": "text/x-python",
   "name": "python",
   "nbconvert_exporter": "python",
   "pygments_lexer": "ipython3",
   "version": "3.12.4"
  }
 },
 "nbformat": 4,
 "nbformat_minor": 5
}
